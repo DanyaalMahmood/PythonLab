{
 "cells": [
  {
   "cell_type": "markdown",
   "id": "50e9ea96",
   "metadata": {},
   "source": [
    "Part 1"
   ]
  },
  {
   "cell_type": "code",
   "execution_count": 81,
   "id": "edb95bec",
   "metadata": {},
   "outputs": [],
   "source": [
    "graph = {\"A\":[(\"D\", 3), (\"B\", 2), (\"F\", 8)],\n",
    "         \"B\":[(\"A\", 2), (\"E\", 5), (\"F\", 1)],\n",
    "         \"C\":[(\"D\", 4), (\"F\", 3)],\n",
    "         \"D\":[(\"A\", 3), (\"C\", 4), (\"E\", 6)],\n",
    "         \"E\":[(\"B\", 5), (\"D\", 6)],\n",
    "         \"F\":[(\"A\", 8), (\"B\", 1), (\"C\", 3)]}"
   ]
  },
  {
   "cell_type": "code",
   "execution_count": 82,
   "id": "4466faf1",
   "metadata": {},
   "outputs": [
    {
     "data": {
      "text/plain": [
       "[('D', 3), ('B', 2), ('F', 8)]"
      ]
     },
     "execution_count": 82,
     "metadata": {},
     "output_type": "execute_result"
    }
   ],
   "source": [
    "test = graph.get(\"A\")\n",
    "test"
   ]
  },
  {
   "cell_type": "code",
   "execution_count": 83,
   "id": "e6e0de35",
   "metadata": {},
   "outputs": [],
   "source": [
    "def checkfrontier(frontier, value):\n",
    "    for i in frontier:\n",
    "        if i[0] == value:\n",
    "            return True\n",
    "        \n",
    "    return False"
   ]
  },
  {
   "cell_type": "code",
   "execution_count": 84,
   "id": "7fd6550e",
   "metadata": {},
   "outputs": [
    {
     "data": {
      "text/plain": [
       "False"
      ]
     },
     "execution_count": 84,
     "metadata": {},
     "output_type": "execute_result"
    }
   ],
   "source": [
    "checkfrontier(test, \"E\")"
   ]
  },
  {
   "cell_type": "code",
   "execution_count": 85,
   "id": "b1fb5fa8",
   "metadata": {},
   "outputs": [],
   "source": [
    "def ucs(graph, start, goal):\n",
    "    frontier = []\n",
    "    explored = []\n",
    "    \n",
    "    frontier.append((start, 0))\n",
    "    \n",
    "    while len(frontier) > 0:\n",
    "        \n",
    "        print(\"frontier: \", frontier)\n",
    "        print(\"explored: \", explored)\n",
    "        current = frontier.pop(0)\n",
    "        print(\"current\", current, end=\"\\n\\n\")\n",
    "        if current[0] == goal:\n",
    "            print(\"Goal has been reached.\")\n",
    "            return\n",
    "        explored.append(current[0])\n",
    "        children = graph.get(current[0])\n",
    "        \n",
    "        for child in children:\n",
    "            if child[0] not in explored and not checkfrontier(frontier, child[0]):\n",
    "                temp = (child[0], child[1] + current[1])\n",
    "                frontier.append(temp)\n",
    "            elif checkfrontier(frontier, child[0]):\n",
    "                for index, i in enumerate(frontier):\n",
    "                    if i[0] == child[0] and i[1] > (child[1] + current[1]):\n",
    "                        frontier[index] = (child[0], child[1] + current[1])\n",
    "        frontier = sorted(frontier, key=lambda x: x[1])\n",
    "        "
   ]
  },
  {
   "cell_type": "code",
   "execution_count": 86,
   "id": "4570b04a",
   "metadata": {},
   "outputs": [
    {
     "name": "stdout",
     "output_type": "stream",
     "text": [
      "frontier:  [('C', 0)]\n",
      "explored:  []\n",
      "current ('C', 0)\n",
      "\n",
      "frontier:  [('F', 3), ('D', 4)]\n",
      "explored:  ['C']\n",
      "current ('F', 3)\n",
      "\n",
      "frontier:  [('D', 4), ('B', 4), ('A', 11)]\n",
      "explored:  ['C', 'F']\n",
      "current ('D', 4)\n",
      "\n",
      "frontier:  [('B', 4), ('A', 7), ('E', 10)]\n",
      "explored:  ['C', 'F', 'D']\n",
      "current ('B', 4)\n",
      "\n",
      "frontier:  [('A', 6), ('E', 9)]\n",
      "explored:  ['C', 'F', 'D', 'B']\n",
      "current ('A', 6)\n",
      "\n",
      "frontier:  [('E', 9)]\n",
      "explored:  ['C', 'F', 'D', 'B', 'A']\n",
      "current ('E', 9)\n",
      "\n",
      "Goal has been reached.\n"
     ]
    }
   ],
   "source": [
    "ucs(graph, \"C\", \"E\")"
   ]
  },
  {
   "cell_type": "markdown",
   "id": "a0a5dec8",
   "metadata": {},
   "source": [
    "Part 2"
   ]
  },
  {
   "cell_type": "code",
   "execution_count": 87,
   "id": "4edc1224",
   "metadata": {},
   "outputs": [],
   "source": [
    "import pandas as pd"
   ]
  },
  {
   "cell_type": "code",
   "execution_count": 88,
   "id": "05cedf8b",
   "metadata": {},
   "outputs": [],
   "source": [
    "def checknodes(nodelist, node):\n",
    "    for i in nodelist:\n",
    "        if i[0] == node:\n",
    "            return True\n",
    "    return False"
   ]
  },
  {
   "cell_type": "code",
   "execution_count": 89,
   "id": "40eb3a67",
   "metadata": {},
   "outputs": [],
   "source": [
    "def createDict(filename):\n",
    "    dic = {}\n",
    "    df = pd.read_csv(filename, sep=\" \",names=[\"Start\", \"End\", \"Cost\"] )\n",
    "    for index, row in df.iterrows():\n",
    "        if dic.get(row[\"Start\"]) == None:\n",
    "            dic[row[\"Start\"]] = []\n",
    "        if not checknodes(dic[row[\"Start\"]], row[\"End\"]):\n",
    "            dic[row[\"Start\"]].append((row[\"End\"], row[\"Cost\"]))\n",
    "        if dic.get(row[\"End\"]) == None:\n",
    "            dic[row[\"End\"]] = []\n",
    "        if not checknodes(dic[row[\"End\"]], row[\"Start\"]):\n",
    "            dic[row[\"End\"]].append((row[\"Start\"], row[\"Cost\"]))\n",
    "    return dic"
   ]
  },
  {
   "cell_type": "code",
   "execution_count": 90,
   "id": "d695ad92",
   "metadata": {},
   "outputs": [
    {
     "data": {
      "text/plain": [
       "{'A': [('B', 2), ('D', 3), ('F', 8)],\n",
       " 'B': [('A', 2), ('E', 5), ('F', 1)],\n",
       " 'C': [('D', 4), ('F', 3)],\n",
       " 'D': [('C', 4), ('A', 3), ('E', 6)],\n",
       " 'E': [('D', 6), ('B', 5)],\n",
       " 'F': [('A', 8), ('C', 3), ('B', 1)]}"
      ]
     },
     "execution_count": 90,
     "metadata": {},
     "output_type": "execute_result"
    }
   ],
   "source": [
    "createDict(\"graph.txt\")"
   ]
  },
  {
   "cell_type": "code",
   "execution_count": 91,
   "id": "1bb7d3ec",
   "metadata": {},
   "outputs": [
    {
     "data": {
      "text/plain": [
       "{'A': [('D', 3), ('B', 2), ('F', 8)],\n",
       " 'B': [('A', 2), ('E', 5), ('F', 1)],\n",
       " 'C': [('D', 4), ('F', 3)],\n",
       " 'D': [('A', 3), ('C', 4), ('E', 6)],\n",
       " 'E': [('B', 5), ('D', 6)],\n",
       " 'F': [('A', 8), ('B', 1), ('C', 3)]}"
      ]
     },
     "execution_count": 91,
     "metadata": {},
     "output_type": "execute_result"
    }
   ],
   "source": [
    "graph"
   ]
  },
  {
   "cell_type": "markdown",
   "id": "9a42a44a",
   "metadata": {},
   "source": [
    "Part C"
   ]
  },
  {
   "cell_type": "code",
   "execution_count": 92,
   "id": "3f5ada78",
   "metadata": {},
   "outputs": [],
   "source": [
    "Map = {\n",
    "         'Arad': [('Sibiu', 140), ('Timisoara', 118), ('Zerind', 75)],\n",
    "         'Sibiu': [('Arad', 140), ('Oradea', 151), ('Fagaras', 99), ('Rimnicu', 80)],\n",
    "         'Timisoara': [('Arad', 118), ('Lugoj', 111)],\n",
    "         'Zerind': [('Arad', 75), ('Oradea', 71)],\n",
    "         'Oradea': [('Zerind', 71), ('Sibiu', 151)],\n",
    "         'Fagaras': [('Sibiu', 99), ('Bucharest', 211)],\n",
    "         'Rimnicu': [('Sibiu', 80), ('Craivo', 146), ('Pitesti', 97)],\n",
    "         'Lugoj': [('Timisoara', 111), ('Mehadia', 70)],\n",
    "         'Bucharest': [('Giurgiu', 90), ('Urziceni', 85), ('Pitesti', 101), ('Fagaras', 211)],\n",
    "         'Craivo': [('Dobreta', 120), ('Pitesti', 138), ('Rimnicu', 146)],\n",
    "         'Pitesti': [('Rimnicu', 97), ('Craivo', 138), ('Bucharest', 101)],\n",
    "         'Mehadia': [('Dobreta', 75), ('Lugoj', 70)],\n",
    "         'Giurgiu': [('Bucharest', 90)],\n",
    "         'Urziceni': [('Bucharest', 85), ('Hirsova', 98), ('Vaslui', 142)],\n",
    "         'Dobreta': [('Mehadia', 75), ('Craivo', 120)],\n",
    "         'Hirsova' : [('Eforie', 86), ('Urziceni', 98)],\n",
    "         'Vaslui' : [('Urziceni', 142), ('Lasi', 92)],\n",
    "         'Eforie' : [('Hirsova', 86)],\n",
    "         'Lasi': [('Neamt', 87), ('Vaslui', 92)],\n",
    "         'Neamt': [('Lasi', 87)],\n",
    "}"
   ]
  },
  {
   "cell_type": "code",
   "execution_count": 93,
   "id": "794af06d",
   "metadata": {},
   "outputs": [
    {
     "data": {
      "text/plain": [
       "{'Arad': [('Sibiu', 140), ('Timisoara', 118), ('Zerind', 75)],\n",
       " 'Sibiu': [('Arad', 140), ('Oradea', 151), ('Fagaras', 99), ('Rimnicu', 80)],\n",
       " 'Timisoara': [('Arad', 118), ('Lugoj', 111)],\n",
       " 'Zerind': [('Arad', 75), ('Oradea', 71)],\n",
       " 'Oradea': [('Zerind', 71), ('Sibiu', 151)],\n",
       " 'Fagaras': [('Sibiu', 99), ('Bucharest', 211)],\n",
       " 'Rimnicu': [('Sibiu', 80), ('Craivo', 146), ('Pitesti', 97)],\n",
       " 'Lugoj': [('Timisoara', 111), ('Mehadia', 70)],\n",
       " 'Bucharest': [('Giurgiu', 90),\n",
       "  ('Urziceni', 85),\n",
       "  ('Pitesti', 101),\n",
       "  ('Fagaras', 211)],\n",
       " 'Craivo': [('Dobreta', 120), ('Pitesti', 138), ('Rimnicu', 146)],\n",
       " 'Pitesti': [('Rimnicu', 97), ('Craivo', 138), ('Bucharest', 101)],\n",
       " 'Mehadia': [('Dobreta', 75), ('Lugoj', 70)],\n",
       " 'Giurgiu': [('Bucharest', 90)],\n",
       " 'Urziceni': [('Bucharest', 85), ('Hirsova', 98), ('Vaslui', 142)],\n",
       " 'Dobreta': [('Mehadia', 75), ('Craivo', 120)],\n",
       " 'Hirsova': [('Eforie', 86), ('Urziceni', 98)],\n",
       " 'Vaslui': [('Urziceni', 142), ('Lasi', 92)],\n",
       " 'Eforie': [('Hirsova', 86)],\n",
       " 'Lasi': [('Neamt', 87), ('Vaslui', 92)],\n",
       " 'Neamt': [('Lasi', 87)]}"
      ]
     },
     "execution_count": 93,
     "metadata": {},
     "output_type": "execute_result"
    }
   ],
   "source": [
    "Map"
   ]
  },
  {
   "cell_type": "code",
   "execution_count": 94,
   "id": "67697ba9",
   "metadata": {},
   "outputs": [
    {
     "name": "stdout",
     "output_type": "stream",
     "text": [
      "frontier:  [('Arad', 0)]\n",
      "explored:  []\n",
      "current ('Arad', 0)\n",
      "\n",
      "frontier:  [('Zerind', 75), ('Timisoara', 118), ('Sibiu', 140)]\n",
      "explored:  ['Arad']\n",
      "current ('Zerind', 75)\n",
      "\n",
      "frontier:  [('Timisoara', 118), ('Sibiu', 140), ('Oradea', 146)]\n",
      "explored:  ['Arad', 'Zerind']\n",
      "current ('Timisoara', 118)\n",
      "\n",
      "frontier:  [('Sibiu', 140), ('Oradea', 146), ('Lugoj', 229)]\n",
      "explored:  ['Arad', 'Zerind', 'Timisoara']\n",
      "current ('Sibiu', 140)\n",
      "\n",
      "frontier:  [('Oradea', 146), ('Rimnicu', 220), ('Lugoj', 229), ('Fagaras', 239)]\n",
      "explored:  ['Arad', 'Zerind', 'Timisoara', 'Sibiu']\n",
      "current ('Oradea', 146)\n",
      "\n",
      "frontier:  [('Rimnicu', 220), ('Lugoj', 229), ('Fagaras', 239)]\n",
      "explored:  ['Arad', 'Zerind', 'Timisoara', 'Sibiu', 'Oradea']\n",
      "current ('Rimnicu', 220)\n",
      "\n",
      "frontier:  [('Lugoj', 229), ('Fagaras', 239), ('Pitesti', 317), ('Craivo', 366)]\n",
      "explored:  ['Arad', 'Zerind', 'Timisoara', 'Sibiu', 'Oradea', 'Rimnicu']\n",
      "current ('Lugoj', 229)\n",
      "\n",
      "frontier:  [('Fagaras', 239), ('Mehadia', 299), ('Pitesti', 317), ('Craivo', 366)]\n",
      "explored:  ['Arad', 'Zerind', 'Timisoara', 'Sibiu', 'Oradea', 'Rimnicu', 'Lugoj']\n",
      "current ('Fagaras', 239)\n",
      "\n",
      "frontier:  [('Mehadia', 299), ('Pitesti', 317), ('Craivo', 366), ('Bucharest', 450)]\n",
      "explored:  ['Arad', 'Zerind', 'Timisoara', 'Sibiu', 'Oradea', 'Rimnicu', 'Lugoj', 'Fagaras']\n",
      "current ('Mehadia', 299)\n",
      "\n",
      "frontier:  [('Pitesti', 317), ('Craivo', 366), ('Dobreta', 374), ('Bucharest', 450)]\n",
      "explored:  ['Arad', 'Zerind', 'Timisoara', 'Sibiu', 'Oradea', 'Rimnicu', 'Lugoj', 'Fagaras', 'Mehadia']\n",
      "current ('Pitesti', 317)\n",
      "\n",
      "frontier:  [('Craivo', 366), ('Dobreta', 374), ('Bucharest', 418)]\n",
      "explored:  ['Arad', 'Zerind', 'Timisoara', 'Sibiu', 'Oradea', 'Rimnicu', 'Lugoj', 'Fagaras', 'Mehadia', 'Pitesti']\n",
      "current ('Craivo', 366)\n",
      "\n",
      "frontier:  [('Dobreta', 374), ('Bucharest', 418)]\n",
      "explored:  ['Arad', 'Zerind', 'Timisoara', 'Sibiu', 'Oradea', 'Rimnicu', 'Lugoj', 'Fagaras', 'Mehadia', 'Pitesti', 'Craivo']\n",
      "current ('Dobreta', 374)\n",
      "\n",
      "frontier:  [('Bucharest', 418)]\n",
      "explored:  ['Arad', 'Zerind', 'Timisoara', 'Sibiu', 'Oradea', 'Rimnicu', 'Lugoj', 'Fagaras', 'Mehadia', 'Pitesti', 'Craivo', 'Dobreta']\n",
      "current ('Bucharest', 418)\n",
      "\n",
      "Goal has been reached.\n"
     ]
    }
   ],
   "source": [
    "ucs(Map, \"Arad\", \"Bucharest\")"
   ]
  },
  {
   "cell_type": "markdown",
   "id": "e48065a8",
   "metadata": {},
   "source": [
    "Part 4"
   ]
  },
  {
   "cell_type": "code",
   "execution_count": 133,
   "id": "372e652f",
   "metadata": {},
   "outputs": [],
   "source": [
    "def ucspath(graph, start, goal):\n",
    "    frontier = []\n",
    "    explored = []\n",
    "    path = {start: []}\n",
    "    \n",
    "    frontier.append((start, 0))\n",
    "    \n",
    "    while len(frontier) > 0:\n",
    "        \n",
    "        print(\"frontier: \", frontier)\n",
    "        print(\"explored: \", explored)\n",
    "        current = frontier.pop(0)\n",
    "        print(\"current\", current, end=\"\\n\\n\")\n",
    "        if current[0] == goal:\n",
    "            print(\"Goal has been reached.\")\n",
    "            return path\n",
    "        explored.append(current[0])\n",
    "        children = graph.get(current[0])\n",
    "        \n",
    "        for child in children:\n",
    "            if child[0] not in explored and not checkfrontier(frontier, child[0]):\n",
    "                temp = (child[0], child[1] + current[1])\n",
    "                frontier.append(temp)\n",
    "         \n",
    "                path[child[0]] = path[current[0]] + [current[0]]\n",
    "                \n",
    "            elif checkfrontier(frontier, child[0]):\n",
    "                for index, i in enumerate(frontier):\n",
    "                    if i[0] == child[0] and i[1] > (child[1] + current[1]):\n",
    "                        frontier[index] = (child[0], child[1] + current[1])\n",
    "                        \n",
    "                        path[child[0]] = path[current[0]] + [current[0]]\n",
    "                    \n",
    "        frontier = sorted(frontier, key=lambda x: x[1])\n",
    "    return path"
   ]
  },
  {
   "cell_type": "code",
   "execution_count": 134,
   "id": "4ad23d21",
   "metadata": {},
   "outputs": [
    {
     "name": "stdout",
     "output_type": "stream",
     "text": [
      "frontier:  [('Arad', 0)]\n",
      "explored:  []\n",
      "current ('Arad', 0)\n",
      "\n",
      "frontier:  [('Zerind', 75), ('Timisoara', 118), ('Sibiu', 140)]\n",
      "explored:  ['Arad']\n",
      "current ('Zerind', 75)\n",
      "\n",
      "frontier:  [('Timisoara', 118), ('Sibiu', 140), ('Oradea', 146)]\n",
      "explored:  ['Arad', 'Zerind']\n",
      "current ('Timisoara', 118)\n",
      "\n",
      "frontier:  [('Sibiu', 140), ('Oradea', 146), ('Lugoj', 229)]\n",
      "explored:  ['Arad', 'Zerind', 'Timisoara']\n",
      "current ('Sibiu', 140)\n",
      "\n",
      "frontier:  [('Oradea', 146), ('Rimnicu', 220), ('Lugoj', 229), ('Fagaras', 239)]\n",
      "explored:  ['Arad', 'Zerind', 'Timisoara', 'Sibiu']\n",
      "current ('Oradea', 146)\n",
      "\n",
      "frontier:  [('Rimnicu', 220), ('Lugoj', 229), ('Fagaras', 239)]\n",
      "explored:  ['Arad', 'Zerind', 'Timisoara', 'Sibiu', 'Oradea']\n",
      "current ('Rimnicu', 220)\n",
      "\n",
      "frontier:  [('Lugoj', 229), ('Fagaras', 239), ('Pitesti', 317), ('Craivo', 366)]\n",
      "explored:  ['Arad', 'Zerind', 'Timisoara', 'Sibiu', 'Oradea', 'Rimnicu']\n",
      "current ('Lugoj', 229)\n",
      "\n",
      "frontier:  [('Fagaras', 239), ('Mehadia', 299), ('Pitesti', 317), ('Craivo', 366)]\n",
      "explored:  ['Arad', 'Zerind', 'Timisoara', 'Sibiu', 'Oradea', 'Rimnicu', 'Lugoj']\n",
      "current ('Fagaras', 239)\n",
      "\n",
      "frontier:  [('Mehadia', 299), ('Pitesti', 317), ('Craivo', 366), ('Bucharest', 450)]\n",
      "explored:  ['Arad', 'Zerind', 'Timisoara', 'Sibiu', 'Oradea', 'Rimnicu', 'Lugoj', 'Fagaras']\n",
      "current ('Mehadia', 299)\n",
      "\n",
      "frontier:  [('Pitesti', 317), ('Craivo', 366), ('Dobreta', 374), ('Bucharest', 450)]\n",
      "explored:  ['Arad', 'Zerind', 'Timisoara', 'Sibiu', 'Oradea', 'Rimnicu', 'Lugoj', 'Fagaras', 'Mehadia']\n",
      "current ('Pitesti', 317)\n",
      "\n",
      "frontier:  [('Craivo', 366), ('Dobreta', 374), ('Bucharest', 418)]\n",
      "explored:  ['Arad', 'Zerind', 'Timisoara', 'Sibiu', 'Oradea', 'Rimnicu', 'Lugoj', 'Fagaras', 'Mehadia', 'Pitesti']\n",
      "current ('Craivo', 366)\n",
      "\n",
      "frontier:  [('Dobreta', 374), ('Bucharest', 418)]\n",
      "explored:  ['Arad', 'Zerind', 'Timisoara', 'Sibiu', 'Oradea', 'Rimnicu', 'Lugoj', 'Fagaras', 'Mehadia', 'Pitesti', 'Craivo']\n",
      "current ('Dobreta', 374)\n",
      "\n",
      "frontier:  [('Bucharest', 418)]\n",
      "explored:  ['Arad', 'Zerind', 'Timisoara', 'Sibiu', 'Oradea', 'Rimnicu', 'Lugoj', 'Fagaras', 'Mehadia', 'Pitesti', 'Craivo', 'Dobreta']\n",
      "current ('Bucharest', 418)\n",
      "\n",
      "Goal has been reached.\n"
     ]
    }
   ],
   "source": [
    "path = ucspath(Map, \"Arad\", \"Bucharest\")"
   ]
  },
  {
   "cell_type": "code",
   "execution_count": 139,
   "id": "e13d9e3f",
   "metadata": {},
   "outputs": [
    {
     "data": {
      "text/plain": [
       "{'Arad': [],\n",
       " 'Sibiu': ['Arad'],\n",
       " 'Timisoara': ['Arad'],\n",
       " 'Zerind': ['Arad'],\n",
       " 'Oradea': ['Arad', 'Zerind'],\n",
       " 'Lugoj': ['Arad', 'Timisoara'],\n",
       " 'Fagaras': ['Arad', 'Sibiu'],\n",
       " 'Rimnicu': ['Arad', 'Sibiu'],\n",
       " 'Craivo': ['Arad', 'Sibiu', 'Rimnicu'],\n",
       " 'Pitesti': ['Arad', 'Sibiu', 'Rimnicu'],\n",
       " 'Mehadia': ['Arad', 'Timisoara', 'Lugoj'],\n",
       " 'Bucharest': ['Arad', 'Sibiu', 'Rimnicu', 'Pitesti'],\n",
       " 'Dobreta': ['Arad', 'Timisoara', 'Lugoj', 'Mehadia']}"
      ]
     },
     "execution_count": 139,
     "metadata": {},
     "output_type": "execute_result"
    }
   ],
   "source": [
    "path"
   ]
  },
  {
   "cell_type": "code",
   "execution_count": 140,
   "id": "24e06452",
   "metadata": {},
   "outputs": [
    {
     "data": {
      "text/plain": [
       "['Arad', 'Sibiu', 'Rimnicu', 'Pitesti']"
      ]
     },
     "execution_count": 140,
     "metadata": {},
     "output_type": "execute_result"
    }
   ],
   "source": [
    "path[\"Bucharest\"]"
   ]
  }
 ],
 "metadata": {
  "kernelspec": {
   "display_name": "Python 3 (ipykernel)",
   "language": "python",
   "name": "python3"
  },
  "language_info": {
   "codemirror_mode": {
    "name": "ipython",
    "version": 3
   },
   "file_extension": ".py",
   "mimetype": "text/x-python",
   "name": "python",
   "nbconvert_exporter": "python",
   "pygments_lexer": "ipython3",
   "version": "3.11.2"
  }
 },
 "nbformat": 4,
 "nbformat_minor": 5
}
