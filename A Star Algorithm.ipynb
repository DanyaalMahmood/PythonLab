{
 "cells": [
  {
   "cell_type": "code",
   "execution_count": 2,
   "id": "2b8d6de4",
   "metadata": {},
   "outputs": [],
   "source": [
    "graph = {\n",
    "         'Arad': [('Sibiu', 140), ('Timisoara', 118), ('Zerind', 75)],\n",
    "         'Sibiu': [('Arad', 140), ('Oradea', 151), ('Fagaras', 99), ('Rimnicu', 80)],\n",
    "         'Timisoara': [('Arad', 118), ('Lugoj', 111)],\n",
    "         'Zerind': [('Arad', 75), ('Oradea', 71)],\n",
    "         'Oradea': [('Zerind', 71), ('Sibiu', 151)],\n",
    "         'Fagaras': [('Sibiu', 99), ('Bucharest', 211)],\n",
    "         'Rimnicu': [('Sibiu', 80), ('Craivo', 146), ('Pitesti', 97)],\n",
    "         'Lugoj': [('Timisoara', 111), ('Mehadia', 70)],\n",
    "         'Bucharest': [('Giurgiu', 90), ('Urziceni', 85), ('Pitesti', 101), ('Fagaras', 211)],\n",
    "         'Craivo': [('Dobreta', 120), ('Pitesti', 138), ('Rimnicu', 146)],\n",
    "         'Pitesti': [('Rimnicu', 97), ('Craivo', 138), ('Bucharest', 101)],\n",
    "         'Mehadia': [('Dobreta', 75), ('Lugoj', 70)],\n",
    "         'Giurgiu': [('Bucharest', 90)],\n",
    "         'Urziceni': [('Bucharest', 85), ('Hirsova', 98), ('Vaslui', 142)],\n",
    "         'Dobreta': [('Mehadia', 75), ('Craivo', 120)],\n",
    "         'Hirsova' : [('Eforie', 86), ('Urziceni', 98)],\n",
    "         'Vaslui' : [('Urziceni', 142), ('Lasi', 92)],\n",
    "         'Eforie' : [('Hirsova', 86)],\n",
    "         'Lasi': [('Neamt', 87), ('Vaslui', 92)],\n",
    "         'Neamt': [('Lasi', 87)],\n",
    "}\n",
    "\n",
    "heuristic = {\n",
    "        \n",
    "         'Arad': 366,\n",
    "         'Sibiu':  253,\n",
    "         'Timisoara': 329,\n",
    "         'Zerind': 374,\n",
    "         'Oradea': 380,\n",
    "         'Fagaras': 178,\n",
    "         'Rimnicu': 193,\n",
    "         'Lugoj': 244,\n",
    "         'Bucharest': 0,\n",
    "         'Craivo': 160,\n",
    "         'Pitesti': 98,\n",
    "         'Mehadia': 241,\n",
    "         'Giurgiu': 77,\n",
    "         'Urziceni': 80,\n",
    "         'Dobreta': 242,\n",
    "         'Hirsova' : 151,\n",
    "         'Vaslui' : 199,\n",
    "         'Eforie' : 161,\n",
    "         'Lasi': 226,\n",
    "         'Neamt': 234\n",
    "}"
   ]
  },
  {
   "cell_type": "code",
   "execution_count": 5,
   "id": "f2be94f3",
   "metadata": {},
   "outputs": [],
   "source": [
    "def checkfrontier(frontier, value):\n",
    "    for i in frontier:\n",
    "        if i[0] == value:\n",
    "            return True\n",
    "        \n",
    "    return False"
   ]
  },
  {
   "cell_type": "code",
   "execution_count": 6,
   "id": "a4792f6e",
   "metadata": {},
   "outputs": [],
   "source": [
    "def ucspath(graph, h, start, goal):\n",
    "    frontier = []\n",
    "    explored = []\n",
    "    path = {start: []}\n",
    "    \n",
    "    frontier.append((start, 0, h[start]))\n",
    "    \n",
    "    while len(frontier) > 0:\n",
    "        \n",
    "        print(\"frontier: \", frontier)\n",
    "        print(\"explored: \", explored)\n",
    "        current = frontier.pop(0)\n",
    "        print(\"current\", current, end=\"\\n\\n\")\n",
    "        if current[0] == goal:\n",
    "            print(\"Goal has been reached.\")\n",
    "            return path\n",
    "        explored.append(current[0])\n",
    "        children = graph.get(current[0])\n",
    "        \n",
    "        for child in children:\n",
    "            if child[0] not in explored and not checkfrontier(frontier, child[0]):\n",
    "                temp = (child[0], child[1] + current[1], h[child[0]] + child[1] + current[1])\n",
    "                frontier.append(temp)\n",
    "         \n",
    "                path[child[0]] = path[current[0]] + [current[0]]\n",
    "                \n",
    "            elif checkfrontier(frontier, child[0]):\n",
    "                for index, i in enumerate(frontier):\n",
    "                    if i[0] == child[0] and i[1] > (child[1] + current[1]):\n",
    "                        frontier[index] = (child[0], child[1] + current[1], h[child[0]] + child[1] + current[1])\n",
    "                        \n",
    "                        path[child[0]] = path[current[0]] + [current[0]]\n",
    "                    \n",
    "        frontier = sorted(frontier, key=lambda x: x[2])\n",
    "    return path"
   ]
  },
  {
   "cell_type": "code",
   "execution_count": 7,
   "id": "c5e67711",
   "metadata": {},
   "outputs": [
    {
     "name": "stdout",
     "output_type": "stream",
     "text": [
      "frontier:  [('Arad', 0, 366)]\n",
      "explored:  []\n",
      "current ('Arad', 0, 366)\n",
      "\n",
      "frontier:  [('Sibiu', 140, 393), ('Timisoara', 118, 447), ('Zerind', 75, 449)]\n",
      "explored:  ['Arad']\n",
      "current ('Sibiu', 140, 393)\n",
      "\n",
      "frontier:  [('Rimnicu', 220, 413), ('Fagaras', 239, 417), ('Timisoara', 118, 447), ('Zerind', 75, 449), ('Oradea', 291, 671)]\n",
      "explored:  ['Arad', 'Sibiu']\n",
      "current ('Rimnicu', 220, 413)\n",
      "\n",
      "frontier:  [('Pitesti', 317, 415), ('Fagaras', 239, 417), ('Timisoara', 118, 447), ('Zerind', 75, 449), ('Craivo', 366, 526), ('Oradea', 291, 671)]\n",
      "explored:  ['Arad', 'Sibiu', 'Rimnicu']\n",
      "current ('Pitesti', 317, 415)\n",
      "\n",
      "frontier:  [('Fagaras', 239, 417), ('Bucharest', 418, 418), ('Timisoara', 118, 447), ('Zerind', 75, 449), ('Craivo', 366, 526), ('Oradea', 291, 671)]\n",
      "explored:  ['Arad', 'Sibiu', 'Rimnicu', 'Pitesti']\n",
      "current ('Fagaras', 239, 417)\n",
      "\n",
      "frontier:  [('Bucharest', 418, 418), ('Timisoara', 118, 447), ('Zerind', 75, 449), ('Craivo', 366, 526), ('Oradea', 291, 671)]\n",
      "explored:  ['Arad', 'Sibiu', 'Rimnicu', 'Pitesti', 'Fagaras']\n",
      "current ('Bucharest', 418, 418)\n",
      "\n",
      "Goal has been reached.\n"
     ]
    },
    {
     "data": {
      "text/plain": [
       "{'Arad': [],\n",
       " 'Sibiu': ['Arad'],\n",
       " 'Timisoara': ['Arad'],\n",
       " 'Zerind': ['Arad'],\n",
       " 'Oradea': ['Arad', 'Sibiu'],\n",
       " 'Fagaras': ['Arad', 'Sibiu'],\n",
       " 'Rimnicu': ['Arad', 'Sibiu'],\n",
       " 'Craivo': ['Arad', 'Sibiu', 'Rimnicu'],\n",
       " 'Pitesti': ['Arad', 'Sibiu', 'Rimnicu'],\n",
       " 'Bucharest': ['Arad', 'Sibiu', 'Rimnicu', 'Pitesti']}"
      ]
     },
     "execution_count": 7,
     "metadata": {},
     "output_type": "execute_result"
    }
   ],
   "source": [
    "ucspath(graph, heuristic, \"Arad\", \"Bucharest\")"
   ]
  },
  {
   "cell_type": "code",
   "execution_count": null,
   "id": "13c97cad",
   "metadata": {},
   "outputs": [],
   "source": []
  }
 ],
 "metadata": {
  "kernelspec": {
   "display_name": "Python 3 (ipykernel)",
   "language": "python",
   "name": "python3"
  },
  "language_info": {
   "codemirror_mode": {
    "name": "ipython",
    "version": 3
   },
   "file_extension": ".py",
   "mimetype": "text/x-python",
   "name": "python",
   "nbconvert_exporter": "python",
   "pygments_lexer": "ipython3",
   "version": "3.11.2"
  }
 },
 "nbformat": 4,
 "nbformat_minor": 5
}
