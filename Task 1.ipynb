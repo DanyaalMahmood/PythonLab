{
 "cells": [
  {
   "cell_type": "markdown",
   "id": "5b72b127",
   "metadata": {},
   "source": [
    "BFS and DFS on Tree"
   ]
  },
  {
   "cell_type": "code",
   "execution_count": 12,
   "id": "303eca48",
   "metadata": {},
   "outputs": [
    {
     "name": "stdout",
     "output_type": "stream",
     "text": [
      "10\n",
      "13\n",
      "25\n",
      "40\n",
      "43\n",
      "45\n",
      "67\n",
      "70\n",
      "89\n",
      "90\n"
     ]
    }
   ],
   "source": [
    "# Creating node class\n",
    "class Node:\n",
    "    def __init__(self, data):\n",
    "        self.data = data\n",
    "        self.leftChild = None\n",
    "        self.rightChild = None\n",
    "\n",
    "# Function to insert in BST\n",
    "    def insert(self, data):\n",
    "        # if value is lesser than the value of the parent node\n",
    "        if data < self.data:\n",
    "            if self.leftChild:\n",
    "                # if we still need to move towards the left subtree\n",
    "                self.leftChild.insert(data)\n",
    "            else:\n",
    "                self.leftChild = Node(data)\n",
    "                return\n",
    "        # if value is greater than the value of the parent node        \n",
    "        else:\n",
    "            if self.rightChild:\n",
    "                # if we still need to move towards the right subtree\n",
    "                self.rightChild.insert(data)\n",
    "            else:\n",
    "                self.rightChild = Node(data)\n",
    "                return\n",
    "\n",
    "    # function to print a BST\n",
    "    def PrintTree(self):\n",
    "        if self.leftChild:\n",
    "            self.leftChild.PrintTree()\n",
    "        print( self.data),\n",
    "        if self.rightChild:\n",
    "            self.rightChild.PrintTree()\n",
    "\n",
    "# Creating root node\n",
    "root = Node(10)\n",
    "# Inserting values in BST\n",
    "root.insert(40)\n",
    "root.insert(70)\n",
    "root.insert(90)\n",
    "root.insert(13)\n",
    "root.insert(25)\n",
    "root.insert(67)\n",
    "root.insert(89)\n",
    "root.insert(43)\n",
    "root.insert(45)\n",
    "\n",
    "root.PrintTree()"
   ]
  },
  {
   "cell_type": "code",
   "execution_count": 13,
   "id": "a2f98ec9",
   "metadata": {},
   "outputs": [],
   "source": [
    "def printQueue(lis):\n",
    "    print(\"Queue: \", end=\"\")\n",
    "    for i in lis:\n",
    "        print(i.data, end=\" \")"
   ]
  },
  {
   "cell_type": "code",
   "execution_count": 36,
   "id": "c77c7d6f",
   "metadata": {},
   "outputs": [],
   "source": [
    "def bfs(root, target):\n",
    "    queue = []\n",
    "    visited = []\n",
    "    \n",
    "    queue.append(root)\n",
    "    \n",
    "    while len(queue) > 0:\n",
    "        \n",
    "        printQueue(queue)\n",
    "        print(\"\")\n",
    "        print(\"Visited: \", visited)\n",
    "        \n",
    "        current = queue.pop(0)\n",
    "        \n",
    "        if current.data == target:\n",
    "            print(\"Target found.\")\n",
    "            return\n",
    "        \n",
    "        visited.append(current.data)\n",
    "    \n",
    "        if current.leftChild != None and current.leftChild.data not in visited:\n",
    "            queue.append(current.leftChild)\n",
    "        if current.rightChild != None and current.rightChild not in visited:\n",
    "            queue.append(current.rightChild)"
   ]
  },
  {
   "cell_type": "code",
   "execution_count": 20,
   "id": "d956d9a7",
   "metadata": {},
   "outputs": [
    {
     "name": "stdout",
     "output_type": "stream",
     "text": [
      "Queue: 10 \n",
      "Visited:  []\n",
      "Queue: 40 \n",
      "Visited:  [10]\n",
      "Queue: 13 70 \n",
      "Visited:  [10, 40]\n",
      "Queue: 70 25 \n",
      "Visited:  [10, 40, 13]\n",
      "Queue: 25 67 90 \n",
      "Visited:  [10, 40, 13, 70]\n",
      "Queue: 67 90 \n",
      "Visited:  [10, 40, 13, 70, 25]\n",
      "Queue: 90 43 \n",
      "Visited:  [10, 40, 13, 70, 25, 67]\n",
      "Queue: 43 89 \n",
      "Visited:  [10, 40, 13, 70, 25, 67, 90]\n",
      "Queue: 89 45 \n",
      "Visited:  [10, 40, 13, 70, 25, 67, 90, 43]\n",
      "Queue: 45 \n",
      "Visited:  [10, 40, 13, 70, 25, 67, 90, 43, 89]\n",
      "Target found.\n"
     ]
    }
   ],
   "source": [
    "bfs(root,45)"
   ]
  },
  {
   "cell_type": "code",
   "execution_count": 25,
   "id": "b7587234",
   "metadata": {},
   "outputs": [],
   "source": [
    "def printStack(lis):\n",
    "    print(\"Stack: \", end=\"\")\n",
    "    for i in lis:\n",
    "        print(i.data, end=\" \")"
   ]
  },
  {
   "cell_type": "code",
   "execution_count": 30,
   "id": "b35385e2",
   "metadata": {},
   "outputs": [],
   "source": [
    "def dfs(root, target):\n",
    "    stack = []\n",
    "    visited = []\n",
    "    \n",
    "    stack.append(root)\n",
    "    \n",
    "    while len(stack) > 0:\n",
    "        \n",
    "        printStack(stack)\n",
    "        print(\"\")\n",
    "        print(\"Visited: \", visited)\n",
    "        \n",
    "        current = stack.pop()\n",
    "        \n",
    "        if current.data == target:\n",
    "            print(\"Target found.\")\n",
    "            return\n",
    "        \n",
    "        visited.append(current.data)\n",
    "    \n",
    "        if current.rightChild != None and current.rightChild not in visited:\n",
    "            stack.append(current.rightChild)\n",
    "        if current.leftChild != None and current.leftChild.data not in visited:\n",
    "            stack.append(current.leftChild)\n",
    "        "
   ]
  },
  {
   "cell_type": "code",
   "execution_count": 31,
   "id": "4f398e93",
   "metadata": {},
   "outputs": [
    {
     "name": "stdout",
     "output_type": "stream",
     "text": [
      "Stack: 10 \n",
      "Visited:  []\n",
      "Stack: 40 \n",
      "Visited:  [10]\n",
      "Stack: 70 13 \n",
      "Visited:  [10, 40]\n",
      "Stack: 70 25 \n",
      "Visited:  [10, 40, 13]\n",
      "Stack: 70 \n",
      "Visited:  [10, 40, 13, 25]\n",
      "Stack: 90 67 \n",
      "Visited:  [10, 40, 13, 25, 70]\n",
      "Stack: 90 43 \n",
      "Visited:  [10, 40, 13, 25, 70, 67]\n",
      "Stack: 90 45 \n",
      "Visited:  [10, 40, 13, 25, 70, 67, 43]\n",
      "Target found.\n"
     ]
    }
   ],
   "source": [
    "dfs(root, 45)"
   ]
  },
  {
   "cell_type": "markdown",
   "id": "e89f2909",
   "metadata": {},
   "source": [
    "BFS and DFS on graph"
   ]
  },
  {
   "cell_type": "code",
   "execution_count": 33,
   "id": "b363501d",
   "metadata": {},
   "outputs": [],
   "source": [
    "graph = {\n",
    "  'A' : ['B','C'],\n",
    "  'B' : ['D', 'E'],\n",
    "  'C' : ['F'],\n",
    "  'D' : [],\n",
    "  'E' : ['F'],\n",
    "  'F' : []\n",
    "}"
   ]
  },
  {
   "cell_type": "code",
   "execution_count": 38,
   "id": "2af8f809",
   "metadata": {},
   "outputs": [],
   "source": [
    "def bfsgraph(root, target):\n",
    "    queue = []\n",
    "    visited = []\n",
    "    \n",
    "    queue.append(root)\n",
    "    \n",
    "    while len(queue) > 0:\n",
    "        \n",
    "        \n",
    "        print(\"Queue: \", queue)\n",
    "        print(\"Visited: \", visited)\n",
    "        \n",
    "        current = queue.pop(0)\n",
    "        \n",
    "        if current == target:\n",
    "            print(\"Target found.\")\n",
    "            return\n",
    "        \n",
    "        visited.append(current)\n",
    "    \n",
    "        child = graph.get(current)\n",
    "        for i in child:\n",
    "            if i not in visited:\n",
    "                queue.append(i)"
   ]
  },
  {
   "cell_type": "code",
   "execution_count": 40,
   "id": "410861c3",
   "metadata": {},
   "outputs": [
    {
     "name": "stdout",
     "output_type": "stream",
     "text": [
      "Queue:  ['A']\n",
      "Visited:  []\n",
      "Queue:  ['B', 'C']\n",
      "Visited:  ['A']\n",
      "Queue:  ['C', 'D', 'E']\n",
      "Visited:  ['A', 'B']\n",
      "Queue:  ['D', 'E', 'F']\n",
      "Visited:  ['A', 'B', 'C']\n",
      "Queue:  ['E', 'F']\n",
      "Visited:  ['A', 'B', 'C', 'D']\n",
      "Target found.\n"
     ]
    }
   ],
   "source": [
    "bfsgraph('A', 'E')"
   ]
  },
  {
   "cell_type": "code",
   "execution_count": 41,
   "id": "ed1657cc",
   "metadata": {},
   "outputs": [],
   "source": [
    "def dfsgraph(root, target):\n",
    "    stack = []\n",
    "    visited = []\n",
    "    \n",
    "    stack.append(root)\n",
    "    \n",
    "    while len(stack) > 0:\n",
    "        \n",
    "        \n",
    "        print(\"Stack: \", stack)\n",
    "        print(\"Visited: \", visited)\n",
    "        \n",
    "        current = stack.pop()\n",
    "        \n",
    "        if current == target:\n",
    "            print(\"Target found.\")\n",
    "            return\n",
    "        \n",
    "        visited.append(current)\n",
    "    \n",
    "        child = graph.get(current)\n",
    "        for i in child:\n",
    "            if i not in visited:\n",
    "                stack.append(i)"
   ]
  },
  {
   "cell_type": "code",
   "execution_count": 42,
   "id": "45f5bc8b",
   "metadata": {},
   "outputs": [
    {
     "name": "stdout",
     "output_type": "stream",
     "text": [
      "Stack:  ['A']\n",
      "Visited:  []\n",
      "Stack:  ['B', 'C']\n",
      "Visited:  ['A']\n",
      "Stack:  ['B', 'F']\n",
      "Visited:  ['A', 'C']\n",
      "Stack:  ['B']\n",
      "Visited:  ['A', 'C', 'F']\n",
      "Stack:  ['D', 'E']\n",
      "Visited:  ['A', 'C', 'F', 'B']\n",
      "Target found.\n"
     ]
    }
   ],
   "source": [
    "dfsgraph(\"A\", \"E\")"
   ]
  },
  {
   "cell_type": "code",
   "execution_count": 1,
   "id": "0cce5078",
   "metadata": {},
   "outputs": [
    {
     "name": "stdout",
     "output_type": "stream",
     "text": [
      "Requirement already satisfied: graphviz in c:\\users\\mahmo\\appdata\\local\\programs\\python\\python311\\lib\\site-packages (0.20.1)\n",
      "Note: you may need to restart the kernel to use updated packages.\n"
     ]
    },
    {
     "name": "stderr",
     "output_type": "stream",
     "text": [
      "\n",
      "[notice] A new release of pip available: 22.3.1 -> 23.0.1\n",
      "[notice] To update, run: python.exe -m pip install --upgrade pip\n"
     ]
    }
   ],
   "source": [
    "pip install graphviz"
   ]
  },
  {
   "cell_type": "code",
   "execution_count": null,
   "id": "862a282a",
   "metadata": {},
   "outputs": [],
   "source": []
  }
 ],
 "metadata": {
  "kernelspec": {
   "display_name": "Python 3 (ipykernel)",
   "language": "python",
   "name": "python3"
  },
  "language_info": {
   "codemirror_mode": {
    "name": "ipython",
    "version": 3
   },
   "file_extension": ".py",
   "mimetype": "text/x-python",
   "name": "python",
   "nbconvert_exporter": "python",
   "pygments_lexer": "ipython3",
   "version": "3.11.2"
  }
 },
 "nbformat": 4,
 "nbformat_minor": 5
}
