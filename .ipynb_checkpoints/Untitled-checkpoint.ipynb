{
 "cells": [
  {
   "cell_type": "markdown",
   "id": "2257cade",
   "metadata": {},
   "source": [
    "BFS"
   ]
  },
  {
   "cell_type": "code",
   "execution_count": 1,
   "id": "7535adb9",
   "metadata": {},
   "outputs": [],
   "source": [
    "from queue import Queue\n",
    "\n",
    "\n",
    "class NQueens:\n",
    "\n",
    "    def __init__(self, size):\n",
    "        self.size = size\n",
    "\n",
    "    def solve_bfs(self):\n",
    "        if self.size < 1:\n",
    "            return []\n",
    "        \n",
    "        solutions = []\n",
    "        queue = Queue()\n",
    "        queue.put([])\n",
    "        \n",
    "        while not queue.empty():\n",
    "            solution = queue.get()\n",
    "            if self.conflict(solution):\n",
    "                continue\n",
    "            row = len(solution)\n",
    "            if row == self.size:\n",
    "                solutions.append(solution)\n",
    "                continue\n",
    "            for col in range(self.size):\n",
    "                queen = (row, col)\n",
    "                queens = solution.copy()\n",
    "                queens.append(queen)\n",
    "                queue.put(queens)\n",
    "        return solutions\n",
    "\n",
    "    def conflict(self, queens):\n",
    "        for i in range(1, len(queens)):\n",
    "            for j in range(0, i):\n",
    "                a, b = queens[i]\n",
    "                c, d = queens[j]\n",
    "                if a == c or b == d or abs(a - c) == abs(b - d):\n",
    "                    return True\n",
    "        return False\n",
    "\n",
    "    def print(self, queens):\n",
    "        for i in range(self.size):\n",
    "            print(' ---' * self.size)\n",
    "            for j in range(self.size):\n",
    "                p = 'Q' if (i, j) in queens else ' '\n",
    "                print('| %s ' % p, end='')\n",
    "            print('|')\n",
    "        print(' ---' * self.size)"
   ]
  },
  {
   "cell_type": "code",
   "execution_count": 2,
   "id": "58ed5f8c",
   "metadata": {},
   "outputs": [],
   "source": [
    "t = NQueens(4)"
   ]
  },
  {
   "cell_type": "code",
   "execution_count": 3,
   "id": "6f1a4639",
   "metadata": {},
   "outputs": [],
   "source": [
    "sol = t.solve_bfs()"
   ]
  },
  {
   "cell_type": "code",
   "execution_count": 4,
   "id": "b27039cd",
   "metadata": {},
   "outputs": [
    {
     "data": {
      "text/plain": [
       "[[(0, 1), (1, 3), (2, 0), (3, 2)], [(0, 2), (1, 0), (2, 3), (3, 1)]]"
      ]
     },
     "execution_count": 4,
     "metadata": {},
     "output_type": "execute_result"
    }
   ],
   "source": [
    "sol"
   ]
  },
  {
   "cell_type": "code",
   "execution_count": 9,
   "id": "051d342b",
   "metadata": {},
   "outputs": [
    {
     "name": "stdout",
     "output_type": "stream",
     "text": [
      " --- --- --- ---\n",
      "|   | Q |   |   |\n",
      " --- --- --- ---\n",
      "|   |   |   | Q |\n",
      " --- --- --- ---\n",
      "| Q |   |   |   |\n",
      " --- --- --- ---\n",
      "|   |   | Q |   |\n",
      " --- --- --- ---\n"
     ]
    }
   ],
   "source": [
    "t.print(sol[0])"
   ]
  },
  {
   "cell_type": "markdown",
   "id": "2120ed24",
   "metadata": {},
   "source": [
    "Part 2"
   ]
  },
  {
   "cell_type": "markdown",
   "id": "d404c00d",
   "metadata": {},
   "source": [
    "The cost of every step in this problem is same so UCS would behave in the same manner as BFS."
   ]
  },
  {
   "cell_type": "code",
   "execution_count": null,
   "id": "6c0d666f",
   "metadata": {},
   "outputs": [],
   "source": []
  }
 ],
 "metadata": {
  "kernelspec": {
   "display_name": "Python 3 (ipykernel)",
   "language": "python",
   "name": "python3"
  },
  "language_info": {
   "codemirror_mode": {
    "name": "ipython",
    "version": 3
   },
   "file_extension": ".py",
   "mimetype": "text/x-python",
   "name": "python",
   "nbconvert_exporter": "python",
   "pygments_lexer": "ipython3",
   "version": "3.11.2"
  }
 },
 "nbformat": 4,
 "nbformat_minor": 5
}
