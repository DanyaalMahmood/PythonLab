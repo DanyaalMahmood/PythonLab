{
 "cells": [
  {
   "cell_type": "code",
   "execution_count": 2,
   "id": "80f07aa3",
   "metadata": {},
   "outputs": [],
   "source": [
    "# Creating node class\n",
    "class Node:\n",
    "    def __init__(self, data):\n",
    "        self.data = data\n",
    "        self.leftChild = None\n",
    "        self.rightChild = None\n",
    "\n",
    "# Function to insert in BST\n",
    "    def insert(self, data):\n",
    "        # if value is lesser than the value of the parent node\n",
    "        if data < self.data:\n",
    "            if self.leftChild:\n",
    "                # if we still need to move towards the left subtree\n",
    "                self.leftChild.insert(data)\n",
    "            else:\n",
    "                self.leftChild = Node(data)\n",
    "                return\n",
    "        # if value is greater than the value of the parent node        \n",
    "        else:\n",
    "            if self.rightChild:\n",
    "                # if we still need to move towards the right subtree\n",
    "                self.rightChild.insert(data)\n",
    "            else:\n",
    "                self.rightChild = Node(data)\n",
    "                return\n",
    "\n",
    "    # function to print a BST\n",
    "    def PrintTree(self):\n",
    "        if self.leftChild:\n",
    "            self.leftChild.PrintTree()\n",
    "        print( self.data),\n",
    "        if self.rightChild:\n",
    "            self.rightChild.PrintTree()"
   ]
  },
  {
   "cell_type": "code",
   "execution_count": 3,
   "id": "06674e46",
   "metadata": {},
   "outputs": [],
   "source": [
    "def printQueue(lis):\n",
    "    print(\"Queue: \", end=\"\")\n",
    "    for i in lis:\n",
    "        print(i.data, end=\" \")"
   ]
  },
  {
   "cell_type": "code",
   "execution_count": 4,
   "id": "e37d5cc2",
   "metadata": {},
   "outputs": [],
   "source": [
    "def bfs(root, target):\n",
    "    queue = []\n",
    "    visited = []\n",
    "    \n",
    "    queue.append(root)\n",
    "    \n",
    "    while len(queue) > 0:\n",
    "        \n",
    "        current = queue.pop(0)\n",
    "        \n",
    "        if current.data == target:\n",
    "            print(\"Target found.\")\n",
    "            return\n",
    "        \n",
    "        visited.append(current.data)\n",
    "    \n",
    "        if current.leftChild != None and current.leftChild.data not in visited:\n",
    "            queue.append(current.leftChild)\n",
    "        if current.rightChild != None and current.rightChild not in visited:\n",
    "            queue.append(current.rightChild)"
   ]
  },
  {
   "cell_type": "code",
   "execution_count": 5,
   "id": "9d899fd3",
   "metadata": {},
   "outputs": [],
   "source": [
    "def printStack(lis):\n",
    "    print(\"Stack: \", end=\"\")\n",
    "    for i in lis:\n",
    "        print(i.data, end=\" \")"
   ]
  },
  {
   "cell_type": "code",
   "execution_count": 6,
   "id": "af285c78",
   "metadata": {},
   "outputs": [],
   "source": [
    "def dfs(root, target):\n",
    "    stack = []\n",
    "    visited = []\n",
    "    \n",
    "    stack.append(root)\n",
    "    \n",
    "    while len(stack) > 0:\n",
    "        \n",
    "\n",
    "        current = stack.pop()\n",
    "        \n",
    "        if current.data == target:\n",
    "            print(\"Target found.\")\n",
    "            return\n",
    "        \n",
    "        visited.append(current.data)\n",
    "    \n",
    "        if current.rightChild != None and current.rightChild not in visited:\n",
    "            stack.append(current.rightChild)\n",
    "        if current.leftChild != None and current.leftChild.data not in visited:\n",
    "            stack.append(current.leftChild)\n",
    "        "
   ]
  },
  {
   "cell_type": "code",
   "execution_count": 7,
   "id": "92a25419",
   "metadata": {},
   "outputs": [],
   "source": [
    "import random\n",
    "\n",
    "def gen_random_list(low, high):\n",
    "    a_list = list(range(low, high))\n",
    "\n",
    "    random.shuffle(a_list)\n",
    "\n",
    "    return a_list"
   ]
  },
  {
   "cell_type": "code",
   "execution_count": 8,
   "id": "6dc4cb49",
   "metadata": {},
   "outputs": [],
   "source": [
    "list1000 = gen_random_list(0, 1000)\n",
    "list40000 = gen_random_list(0, 40000)\n",
    "list80000 = gen_random_list(0, 80000)\n",
    "list200000 = gen_random_list(0, 200000)\n",
    "list1000000 = gen_random_list(0, 1000000)"
   ]
  },
  {
   "cell_type": "code",
   "execution_count": 9,
   "id": "c712066b",
   "metadata": {},
   "outputs": [],
   "source": [
    "root1000 = Node(list1000[0])\n",
    "for i in range(1, len(list1000)):\n",
    "    root1000.insert(list1000[i])"
   ]
  },
  {
   "cell_type": "code",
   "execution_count": 10,
   "id": "5dd0c777",
   "metadata": {},
   "outputs": [],
   "source": [
    "root40000 = Node(list40000[0])\n",
    "for i in range(1, len(list40000)):\n",
    "    root40000.insert(list40000[i])"
   ]
  },
  {
   "cell_type": "code",
   "execution_count": 11,
   "id": "d9371bff",
   "metadata": {},
   "outputs": [],
   "source": [
    "root80000 = Node(list80000[0])\n",
    "for i in range(1, len(list80000)):\n",
    "    root80000.insert(list80000[i])"
   ]
  },
  {
   "cell_type": "code",
   "execution_count": 12,
   "id": "9c37d789",
   "metadata": {},
   "outputs": [],
   "source": [
    "root200000 = Node(list200000[0])\n",
    "for i in range(1, len(list200000)):\n",
    "    root200000.insert(list200000[i])"
   ]
  },
  {
   "cell_type": "code",
   "execution_count": 13,
   "id": "8c4f61af",
   "metadata": {},
   "outputs": [],
   "source": [
    "root1000000 = Node(list1000000[0])\n",
    "for i in range(1, len(list1000000)):\n",
    "    root1000000.insert(list1000000[i])"
   ]
  },
  {
   "cell_type": "code",
   "execution_count": 14,
   "id": "d912f8f8",
   "metadata": {},
   "outputs": [],
   "source": [
    "import time"
   ]
  },
  {
   "cell_type": "code",
   "execution_count": 15,
   "id": "814a7fb5",
   "metadata": {},
   "outputs": [
    {
     "name": "stdout",
     "output_type": "stream",
     "text": [
      "Target found.\n",
      "Time taken(seconds) on bfs:  0.002034902572631836\n",
      "Target found.\n",
      "Time taken(seconds) on dfs:  0.001996755599975586\n"
     ]
    }
   ],
   "source": [
    "goal1 = list1000[len(list1000) - 220]\n",
    "\n",
    "start = time.time()\n",
    "bfs(root1000, goal1)\n",
    "end = time.time()\n",
    "elapsedbfs1 = end - start\n",
    "\n",
    "print(\"Time taken(seconds) on bfs: \", elapsedbfs1)\n",
    "start = time.time()\n",
    "dfs(root1000, goal1)\n",
    "end = time.time()\n",
    "elapseddfs1 = end - start\n",
    "\n",
    "print(\"Time taken(seconds) on dfs: \", elapseddfs1)"
   ]
  },
  {
   "cell_type": "code",
   "execution_count": 16,
   "id": "4bac8a6b",
   "metadata": {},
   "outputs": [
    {
     "name": "stdout",
     "output_type": "stream",
     "text": [
      "Target found.\n",
      "Time taken(seconds) on bfs:  0.034995079040527344\n",
      "Target found.\n",
      "Time taken(seconds) on dfs:  1.945033073425293\n"
     ]
    }
   ],
   "source": [
    "goal2 = list40000[len(list40000) - 220]\n",
    "\n",
    "start = time.time()\n",
    "bfs(root40000, goal2)\n",
    "end = time.time()\n",
    "elapsedbfs2 = end - start\n",
    "\n",
    "print(\"Time taken(seconds) on bfs: \", elapsedbfs2)\n",
    "start = time.time()\n",
    "dfs(root40000, goal2)\n",
    "end = time.time()\n",
    "elapseddfs2 = end - start\n",
    "\n",
    "print(\"Time taken(seconds) on dfs: \", elapseddfs2)"
   ]
  },
  {
   "cell_type": "code",
   "execution_count": 17,
   "id": "a0f95935",
   "metadata": {},
   "outputs": [
    {
     "name": "stdout",
     "output_type": "stream",
     "text": [
      "Target found.\n",
      "Time taken(seconds) on bfs:  17.152106523513794\n",
      "Target found.\n",
      "Time taken(seconds) on dfs:  1.859452724456787\n"
     ]
    }
   ],
   "source": [
    "goal3 = list80000[len(list80000) - 220]\n",
    "\n",
    "start = time.time()\n",
    "bfs(root80000, goal2)\n",
    "end = time.time()\n",
    "elapsedbfs3 = end - start\n",
    "\n",
    "print(\"Time taken(seconds) on bfs: \", elapsedbfs3)\n",
    "start = time.time()\n",
    "dfs(root80000, goal2)\n",
    "end = time.time()\n",
    "elapseddfs3 = end - start\n",
    "\n",
    "print(\"Time taken(seconds) on dfs: \", elapseddfs3)"
   ]
  },
  {
   "cell_type": "code",
   "execution_count": 18,
   "id": "5c92b020",
   "metadata": {},
   "outputs": [
    {
     "name": "stdout",
     "output_type": "stream",
     "text": [
      "Target found.\n",
      "Time taken(seconds) on bfs:  15.086806774139404\n",
      "Target found.\n",
      "Time taken(seconds) on dfs:  1.805372953414917\n"
     ]
    }
   ],
   "source": [
    "goal4 = list200000[len(list200000) - 220]\n",
    "\n",
    "start = time.time()\n",
    "bfs(root200000, goal2)\n",
    "end = time.time()\n",
    "elapsedbfs4 = end - start\n",
    "\n",
    "print(\"Time taken(seconds) on bfs: \", elapsedbfs4)\n",
    "start = time.time()\n",
    "dfs(root200000, goal2)\n",
    "end = time.time()\n",
    "elapseddfs4 = end - start\n",
    "\n",
    "print(\"Time taken(seconds) on dfs: \", elapseddfs4)"
   ]
  },
  {
   "cell_type": "code",
   "execution_count": 19,
   "id": "df5fad94",
   "metadata": {},
   "outputs": [
    {
     "name": "stdout",
     "output_type": "stream",
     "text": [
      "Target found.\n",
      "Time taken(seconds) on bfs:  77.21538352966309\n",
      "Target found.\n",
      "Time taken(seconds) on dfs:  1.7619976997375488\n"
     ]
    }
   ],
   "source": [
    "goal5 = list1000000[len(list1000000) - 220]\n",
    "\n",
    "start = time.time()\n",
    "bfs(root1000000, goal2)\n",
    "end = time.time()\n",
    "elapsedbfs5 = end - start\n",
    "\n",
    "print(\"Time taken(seconds) on bfs: \", elapsedbfs5)\n",
    "start = time.time()\n",
    "dfs(root1000000, goal2)\n",
    "end = time.time()\n",
    "elapseddfs5 = end - start\n",
    "\n",
    "print(\"Time taken(seconds) on dfs: \", elapseddfs5)"
   ]
  },
  {
   "cell_type": "code",
   "execution_count": 21,
   "id": "0e08115d",
   "metadata": {},
   "outputs": [],
   "source": [
    "import pandas as pd"
   ]
  },
  {
   "cell_type": "code",
   "execution_count": 23,
   "id": "6f367c78",
   "metadata": {},
   "outputs": [],
   "source": [
    "data = { \"Tree Size\": [1000, 40000, 80000, 200000, 1000000], \n",
    "         \"BFS Time\": [elapsedbfs1, elapsedbfs2, elapsedbfs3, elapsedbfs4, elapsedbfs5],\n",
    "         \"DFS Time\": [elapseddfs1, elapseddfs2, elapseddfs3, elapseddfs4, elapseddfs5]}"
   ]
  },
  {
   "cell_type": "code",
   "execution_count": 26,
   "id": "d99f5964",
   "metadata": {},
   "outputs": [
    {
     "data": {
      "text/html": [
       "<div>\n",
       "<style scoped>\n",
       "    .dataframe tbody tr th:only-of-type {\n",
       "        vertical-align: middle;\n",
       "    }\n",
       "\n",
       "    .dataframe tbody tr th {\n",
       "        vertical-align: top;\n",
       "    }\n",
       "\n",
       "    .dataframe thead th {\n",
       "        text-align: right;\n",
       "    }\n",
       "</style>\n",
       "<table border=\"1\" class=\"dataframe\">\n",
       "  <thead>\n",
       "    <tr style=\"text-align: right;\">\n",
       "      <th></th>\n",
       "      <th>Tree Size</th>\n",
       "      <th>BFS Time</th>\n",
       "      <th>DFS Time</th>\n",
       "    </tr>\n",
       "  </thead>\n",
       "  <tbody>\n",
       "    <tr>\n",
       "      <th>0</th>\n",
       "      <td>1000</td>\n",
       "      <td>0.002035</td>\n",
       "      <td>0.001997</td>\n",
       "    </tr>\n",
       "    <tr>\n",
       "      <th>1</th>\n",
       "      <td>40000</td>\n",
       "      <td>0.034995</td>\n",
       "      <td>1.945033</td>\n",
       "    </tr>\n",
       "    <tr>\n",
       "      <th>2</th>\n",
       "      <td>80000</td>\n",
       "      <td>17.152107</td>\n",
       "      <td>1.859453</td>\n",
       "    </tr>\n",
       "    <tr>\n",
       "      <th>3</th>\n",
       "      <td>200000</td>\n",
       "      <td>15.086807</td>\n",
       "      <td>1.805373</td>\n",
       "    </tr>\n",
       "    <tr>\n",
       "      <th>4</th>\n",
       "      <td>1000000</td>\n",
       "      <td>77.215384</td>\n",
       "      <td>1.761998</td>\n",
       "    </tr>\n",
       "  </tbody>\n",
       "</table>\n",
       "</div>"
      ],
      "text/plain": [
       "   Tree Size   BFS Time  DFS Time\n",
       "0       1000   0.002035  0.001997\n",
       "1      40000   0.034995  1.945033\n",
       "2      80000  17.152107  1.859453\n",
       "3     200000  15.086807  1.805373\n",
       "4    1000000  77.215384  1.761998"
      ]
     },
     "execution_count": 26,
     "metadata": {},
     "output_type": "execute_result"
    }
   ],
   "source": [
    "df = pd.DataFrame(data)\n",
    "df"
   ]
  },
  {
   "cell_type": "code",
   "execution_count": 27,
   "id": "9aa07886",
   "metadata": {},
   "outputs": [
    {
     "data": {
      "image/png": "[encoded data removed]",
      "text/plain": [
       "<Figure size 1200x800 with 1 Axes>"
      ]
     },
     "metadata": {},
     "output_type": "display_data"
    }
   ],
   "source": [
    "import numpy as np\n",
    "import matplotlib.pyplot as plt\n",
    " \n",
    "barWidth = 0.25\n",
    "fig = plt.subplots(figsize =(12, 8))\n",
    "\n",
    "BFS = df['BFS Time']\n",
    "DFS = df['DFS Time']\n",
    "\n",
    "br1 = np.arange(len(BFS))\n",
    "br2 = [x + barWidth for x in br1]\n",
    "\n",
    "plt.bar(br1, BFS, color ='r', width = barWidth,\n",
    "        edgecolor ='grey', label ='BFS')\n",
    "plt.bar(br2, DFS, color ='g', width = barWidth,\n",
    "        edgecolor ='grey', label ='DFS')\n",
    " \n",
    "# Adding Xticks\n",
    "plt.xlabel('Search', fontweight ='bold', fontsize = 15)\n",
    "plt.ylabel('Time(Seconds)', fontweight ='bold', fontsize = 15)\n",
    "plt.xticks([r + barWidth for r in range(len(BFS))],\n",
    "        df[\"Tree Size\"])\n",
    " \n",
    "plt.legend()\n",
    "plt.show()"
   ]
  }
 ],
 "metadata": {
  "kernelspec": {
   "display_name": "Python 3 (ipykernel)",
   "language": "python",
   "name": "python3"
  },
  "language_info": {
   "codemirror_mode": {
    "name": "ipython",
    "version": 3
   },
   "file_extension": ".py",
   "mimetype": "text/x-python",
   "name": "python",
   "nbconvert_exporter": "python",
   "pygments_lexer": "ipython3",
   "version": "3.11.2"
  }
 },
 "nbformat": 4,
 "nbformat_minor": 5
}
